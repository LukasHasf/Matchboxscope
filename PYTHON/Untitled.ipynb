{
 "cells": [
  {
   "cell_type": "code",
   "execution_count": 2,
   "id": "7b1154a2-f615-4c85-9605-88ca3218282d",
   "metadata": {},
   "outputs": [],
   "source": [
    "import tifffile as tif\n",
    "import numpy as np\n"
   ]
  },
  {
   "cell_type": "code",
   "execution_count": 7,
   "id": "cdb6349d-89c1-4268-a49b-54ff8552deea",
   "metadata": {},
   "outputs": [
    {
     "name": "stderr",
     "output_type": "stream",
     "text": [
      "TiffPage 0: TypeError: read_bytes() missing 3 required positional arguments: 'dtype', 'count', and 'offsetsize'\n"
     ]
    }
   ],
   "source": [
    "filename = \"2022_04_22_Anglerfish_stack.tif\"\n",
    "filepath = \"\"\n",
    "\n",
    "mFile = filepath+filename\n",
    "\n",
    "mImageStack = tif.imread(mFile)"
   ]
  },
  {
   "cell_type": "code",
   "execution_count": 9,
   "id": "036889a5-897b-443e-baa3-4c7628979108",
   "metadata": {},
   "outputs": [
    {
     "name": "stdout",
     "output_type": "stream",
     "text": [
      "(1200, 1600)\n"
     ]
    }
   ],
   "source": [
    "mBackground = np.mean(mImageStack,0)\n",
    "print(mBackground.shape)"
   ]
  },
  {
   "cell_type": "code",
   "execution_count": 16,
   "id": "ece6ee5e-4c2f-4671-81fa-6d1c96b76a49",
   "metadata": {},
   "outputs": [],
   "source": [
    "import cv2 \n",
    "resizefactor = 0.25\n",
    "\n",
    "allImages = []\n",
    "\n",
    "for iImage in range(mImageStack.shape[0]):\n",
    "    #print(iImage)\n",
    "    allImages.append(cv2.resize(mImageStack[iImage,]/mBackground,None,None,resizefactor,resizefactor))\n",
    "                    \n",
    "del mImageStack\n",
    "allImages = np.array(allImages)\n",
    "allImages = allImages/np.expand_dims(np.expand_dims(np.mean(allImages,(1,2)),-1),-1)"
   ]
  },
  {
   "cell_type": "code",
   "execution_count": 19,
   "id": "de1a4d90-9db1-4a99-bd96-b4d47c207942",
   "metadata": {},
   "outputs": [],
   "source": [
    "tif.imwrite(mFile+\"_clened.tif\", allImages)"
   ]
  }
 ],
 "metadata": {
  "kernelspec": {
   "display_name": "Python 3 (ipykernel)",
   "language": "python",
   "name": "python3"
  },
  "language_info": {
   "codemirror_mode": {
    "name": "ipython",
    "version": 3
   },
   "file_extension": ".py",
   "mimetype": "text/x-python",
   "name": "python",
   "nbconvert_exporter": "python",
   "pygments_lexer": "ipython3",
   "version": "3.9.7"
  }
 },
 "nbformat": 4,
 "nbformat_minor": 5
}
